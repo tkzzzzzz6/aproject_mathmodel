{
 "cells": [
  {
   "cell_type": "code",
   "execution_count": 1,
   "metadata": {},
   "outputs": [
    {
     "name": "stdout",
     "output_type": "stream",
     "text": [
      "[[0.25      ]\n",
      " [0.33333333]\n",
      " [0.33333333]\n",
      " [0.5       ]\n",
      " [0.5       ]\n",
      " [1.        ]]\n",
      "[[0.         0.25       0.         0.25       0.25       0.25      ]\n",
      " [0.         0.         0.         0.33333333 0.33333333 0.33333333]\n",
      " [0.33333333 0.33333333 0.         0.33333333 0.         0.        ]\n",
      " [0.         0.         0.         0.         0.5        0.5       ]\n",
      " [0.         0.         0.5        0.         0.         0.5       ]\n",
      " [0.         0.         1.         0.         0.         0.        ]]\n",
      "V= [0.0937 0.1172 0.2813 0.1563 0.1406 0.2109]\n"
     ]
    },
    {
     "data": {
      "image/png": "[encoded data removed]",
      "text/plain": [
       "<Figure size 640x480 with 1 Axes>"
      ]
     },
     "metadata": {},
     "output_type": "display_data"
    }
   ],
   "source": [
    "import numpy as np\n",
    "from scipy.sparse.linalg import eigs\n",
    "import pylab as plt\n",
    "import sympy as sp\n",
    "\n",
    "L = [(1,2),(1,4),(1,5),(1,6),(2,4),(2,5),(2,6),(3,1),(3,2),(3,4),(4,5),(4,6),(5,3),(5,6),(6,3)]\n",
    "w = np.zeros((6, 6))  # 邻接矩阵初始化\n",
    "for i in range(len(L)):\n",
    "    w[L[i][0]-1, L[i][1]-1] = 1\n",
    "r = np.sum(w, axis=1, keepdims=True)\n",
    "for i in range(len(r)):\n",
    "    if r[i][0] != 0:\n",
    "        r[i][0] = sp.Rational(r[i][0] ** -1)\n",
    "\n",
    "r = np.array(r)\n",
    "print(r) # 由于0不为分母，先将r成以-1方，避免相除出错。\n",
    "\n",
    "P = w * r            # 这里利用矩阵广播\n",
    "print(P)\n",
    "val, vec = eigs(P.T, 1)\n",
    "V = vec.real\n",
    "V = V.flatten()  # 展开成（n,)形式的数组\n",
    "V = V/V.sum()\n",
    "print(\"V=\", np.round(V, 4))\n",
    "plt.bar(range(1, len(w)+1), V, width=0.6, color='b')\n",
    "plt.show()\n"
   ]
  },
  {
   "cell_type": "code",
   "execution_count": 2,
   "metadata": {},
   "outputs": [
    {
     "name": "stdout",
     "output_type": "stream",
     "text": [
      "[[1/3]\n",
      " [2/9]\n",
      " [2/9]\n",
      " [2/9]]\n",
      "迭代次数为： 51\n"
     ]
    }
   ],
   "source": [
    "import numpy as np\n",
    "from fractions import Fraction\n",
    "\n",
    "np.set_printoptions(formatter={'all': lambda x: str(Fraction(x).limit_denominator())})  # 格式化 保留分数，不至于精度丢失\n",
    "M = np.array([[0, 1 / 2, 1, 0], [1 / 3, 0, 0, 1 / 2], [1 / 3, 0, 0, 1 / 2], [1 / 3, 1 / 2, 0, 0]])  # 根据有向图得出的转移矩阵\n",
    "R = np.array([1 / 4, 1 / 4, 1 / 4, 1 / 4]).reshape(4, 1)  # 初始R0\n",
    "\n",
    "def diedai(M, R):  # 定义一个迭代函数，直至MR=R时，输出R\n",
    "    count = 0\n",
    "    while (True):\n",
    "        R_1 = np.dot(M, R)\n",
    "        if ((R_1 == R).any()):  # 判断两个数组是否相等\n",
    "            print(R_1)\n",
    "            print('迭代次数为：', count)\n",
    "            break\n",
    "        else:\n",
    "            R = np.copy(R_1)\n",
    "            count += 1\n",
    "\n",
    "diedai(M, R)\n"
   ]
  },
  {
   "cell_type": "code",
   "execution_count": 3,
   "metadata": {},
   "outputs": [
    {
     "name": "stdout",
     "output_type": "stream",
     "text": [
      "False\n",
      "False\n",
      "False\n",
      "False\n",
      "False\n",
      "False\n",
      "False\n",
      "False\n",
      "False\n",
      "False\n",
      "False\n",
      "False\n",
      "False\n",
      "False\n",
      "False\n",
      "False\n",
      "False\n",
      "False\n",
      "False\n",
      "False\n",
      "False\n",
      "False\n",
      "False\n",
      "False\n",
      "False\n",
      "False\n",
      "False\n",
      "False\n",
      "False\n",
      "True\n",
      "[[1/3]\n",
      " [2/9]\n",
      " [2/9]\n",
      " [2/9]]\n"
     ]
    }
   ],
   "source": [
    "from numpy import *\n",
    "a = array([[0,1,1,0],[1,0,0,1],[1,0,0,1],[1,1,0,0]],dtype=float)\n",
    "#构造转移矩阵\n",
    "def transPre(data):\n",
    "    b = transpose(data) #把矩阵转置\n",
    "    c = zeros((a.shape),dtype=float)\n",
    "    #把所有的元素重新分配\n",
    "    for i in range(a.shape[0]):\n",
    "        for j in range(a.shape[1]):\n",
    "            c[i][j] = data[i][j] / (b[j].sum())\n",
    "    return c\n",
    "# print(transPre(a))\n",
    "\n",
    "def initiPre(c):\n",
    "    # pr值的初始化\n",
    "    pr = zeros((c.shape[0],1),dtype=float)\n",
    "    for i in range(c.shape[0]):\n",
    "        pr[i] = float(1)/c.shape[0]\n",
    "    return pr\n",
    "# print(initiPre(a))\n",
    "\n",
    "def PageRank(p,m,v):\n",
    "    #pageRank算法\n",
    "    #p是网页跳转概率，m是转移矩阵，v是pr值\n",
    "    while ((v == p*dot(m,v) + (1-p)*v).all() == False):\n",
    "        v = p*dot(m,v) + (1-p)*v\n",
    "        # print(v)\n",
    "        print((v == p*dot(m,v) + (1-p)*v).all())\n",
    "    return v\n",
    "if __name__ == '__main__':\n",
    "    M = transPre(a)\n",
    "    pr = initiPre(M)\n",
    "    p = 0.85\n",
    "    print(PageRank(p,M,pr))\n"
   ]
  },
  {
   "cell_type": "code",
   "execution_count": 4,
   "metadata": {},
   "outputs": [
    {
     "name": "stdout",
     "output_type": "stream",
     "text": [
      "[0.33 0.22 0.22 0.22]\n"
     ]
    }
   ],
   "source": [
    "import numpy as np\n",
    "def pagerank_basic(M, tol=1e-8, max_iter=1000):\n",
    "    \"\"\"使用PageRank的基本定义求解PageRank值\n",
    "    要求有向图是强联通且非周期性的\n",
    "    :param M: 转移概率矩阵\n",
    "    :param tol: 容差\n",
    "    :param max_iter: 最大迭代次数\n",
    "    :return: PageRank值（平稳分布）\n",
    "    \"\"\"\n",
    "    n_components = len(M)\n",
    "\n",
    "    # 初始状态分布：均匀分布\n",
    "    pr0 = np.array([1 / n_components] * n_components)\n",
    "\n",
    "    # 迭代寻找平稳状态\n",
    "    for _ in range(max_iter):\n",
    "        pr1 = np.dot(M, pr0)\n",
    "        # 判断迭代更新量是否小于容差\n",
    "        if np.sum(np.abs(pr0 - pr1)) < tol:\n",
    "            break\n",
    "        pr0 = pr1\n",
    "    return pr0\n",
    "\n",
    "if __name__ == \"__main__\":\n",
    "    np.set_printoptions(precision=2, suppress=True)\n",
    "    P = np.array([[0, 1 / 2, 1, 0],\n",
    "                  [1 / 3, 0, 0, 1 / 2],\n",
    "                  [1 / 3, 0, 0, 1 / 2],\n",
    "                  [1 / 3, 1 / 2, 0, 0]])\n",
    "    print(pagerank_basic(P))  # [0.33 0.22 0.22 0.22]\n"
   ]
  },
  {
   "cell_type": "code",
   "execution_count": 5,
   "metadata": {},
   "outputs": [
    {
     "name": "stdout",
     "output_type": "stream",
     "text": [
      "[0.1  0.13 0.64 0.13]\n"
     ]
    }
   ],
   "source": [
    "\n",
    "import numpy as np\n",
    "def pagerank_1(M, d=0.8, tol=1e-8, max_iter=1000):\n",
    "    \"\"\"PageRank的迭代算法\n",
    "    :param M: 转移概率矩阵\n",
    "    :param d: 阻尼因子\n",
    "    :param tol: 容差\n",
    "    :param max_iter: 最大迭代次数\n",
    "    :return: PageRank值（平稳分布）\n",
    "    \"\"\"\n",
    "    n_components = len(M)\n",
    "\n",
    "    # 初始状态分布：均匀分布\n",
    "    pr0 = np.array([1 / n_components] * n_components)\n",
    "\n",
    "    # 迭代寻找平稳状态\n",
    "    for _ in range(max_iter):\n",
    "        pr1 = d * np.dot(M, pr0) + (1 - d) / n_components\n",
    "\n",
    "        # 判断迭代更新量是否小于容差\n",
    "        if np.sum(np.abs(pr0 - pr1)) < tol:\n",
    "            break\n",
    "        pr0 = pr1\n",
    "    return pr0\n",
    "if __name__ == \"__main__\":\n",
    "    np.set_printoptions(precision=2, suppress=True)\n",
    "    P = np.array([[0, 1 / 2, 0, 0],\n",
    "                  [1 / 3, 0, 0, 1 / 2],\n",
    "                  [1 / 3, 0, 1, 1 / 2],\n",
    "                  [1 / 3, 1 / 2, 0, 0]])\n",
    "    print(pagerank_1(P))  # [0.1  0.13 0.64 0.13]\n"
   ]
  },
  {
   "cell_type": "code",
   "execution_count": 6,
   "metadata": {},
   "outputs": [
    {
     "name": "stdout",
     "output_type": "stream",
     "text": [
      "[0.1  0.13 0.64 0.13]\n"
     ]
    }
   ],
   "source": [
    "import numpy as np\n",
    "def pagerank_2(M, d=0.8, tol=1e-8, max_iter=1000):\n",
    "    \"\"\"计算一般PageRank的幂法\n",
    "\n",
    "    :param M: 转移概率矩阵\n",
    "    :param d: 阻尼因子\n",
    "    :param tol: 容差\n",
    "    :param max_iter: 最大迭代次数\n",
    "    :return: PageRank值（平稳分布）\n",
    "    \"\"\"\n",
    "    n_components = len(M)\n",
    "\n",
    "    # 选择初始向量x0：均匀分布\n",
    "    x0 = np.array([1 / n_components] * n_components)\n",
    "    # 计算有向图的一般转移矩阵A\n",
    "    A = d * M + (1 - d) / n_components\n",
    "    # 迭代并规范化结果向量\n",
    "    for _ in range(max_iter):\n",
    "        x1 = np.dot(A, x0)\n",
    "        x1 /= np.max(x1)\n",
    "        # 判断迭代更新量是否小于容差\n",
    "        if np.sum(np.abs(x0 - x1)) < tol:\n",
    "            break\n",
    "        x0 = x1\n",
    "    # 对结果进行规范化处理，使其表示概率分布\n",
    "    x0 /= np.sum(x0)\n",
    "    return x0\n",
    "\n",
    "if __name__ == \"__main__\":\n",
    "    np.set_printoptions(precision=2, suppress=True)\n",
    "    P = np.array([[0, 1 / 2, 0, 0],\n",
    "                  [1 / 3, 0, 0, 1 / 2],\n",
    "                  [1 / 3, 0, 1, 1 / 2],\n",
    "                  [1 / 3, 1 / 2, 0, 0]])\n",
    "    print(pagerank_2(P))  # [0.1  0.13 0.64 0.13]\n"
   ]
  },
  {
   "cell_type": "markdown",
   "metadata": {},
   "source": [
    "# 参考资料\n",
    "- [PageRank 算法 python应用](https://blog.csdn.net/wuyu1876/article/details/129533652)\n",
    "- [Python实现PageRank计算](https://blog.csdn.net/duan_mo_ran/article/details/114702874)\n",
    "- [《统计学习方法》第21章 PageRank 算法（教材全解 + 公式推导 + Python实现）](https://blog.csdn.net/Changxing_J/article/details/118970748)\n",
    "- [手把手图文并茂教你掌握 PageRank 算法](https://blog.csdn.net/weixin_40431584/article/details/105561398)"
   ]
  }
 ],
 "metadata": {
  "kernelspec": {
   "display_name": "t1",
   "language": "python",
   "name": "python3"
  },
  "language_info": {
   "codemirror_mode": {
    "name": "ipython",
    "version": 3
   },
   "file_extension": ".py",
   "mimetype": "text/x-python",
   "name": "python",
   "nbconvert_exporter": "python",
   "pygments_lexer": "ipython3",
   "version": "3.10.13"
  }
 },
 "nbformat": 4,
 "nbformat_minor": 2
}
